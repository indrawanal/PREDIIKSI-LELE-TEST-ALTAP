{
  "cells": [
    {
      "cell_type": "markdown",
      "metadata": {
        "id": "view-in-github",
        "colab_type": "text"
      },
      "source": [
        "<a href=\"https://colab.research.google.com/github/indrawanal/PREDIIKSI-LELE-TEST-ALTAP/blob/main/attention_lstm_rainfall_prediction.ipynb\" target=\"_parent\"><img src=\"https://colab.research.google.com/assets/colab-badge.svg\" alt=\"Open In Colab\"/></a>"
      ]
    },
    {
      "cell_type": "markdown",
      "metadata": {
        "id": "LOBh2SbVVGDH"
      },
      "source": [
        "<h1 align=\"center\">Rainfall Predict with LSTM and LSTM Attention </h1>\n",
        "\n"
      ]
    },
    {
      "cell_type": "code",
      "execution_count": null,
      "metadata": {
        "colab": {
          "base_uri": "https://localhost:8080/"
        },
        "id": "nsYXqyr7j6n4",
        "outputId": "524fc0d6-63cc-4654-f10a-8ba6969d239b"
      },
      "outputs": [
        {
          "output_type": "stream",
          "name": "stdout",
          "text": [
            "Requirement already satisfied: scikit-learn in /usr/local/lib/python3.10/dist-packages (1.5.2)\n",
            "Requirement already satisfied: numpy>=1.19.5 in /usr/local/lib/python3.10/dist-packages (from scikit-learn) (1.26.4)\n",
            "Requirement already satisfied: scipy>=1.6.0 in /usr/local/lib/python3.10/dist-packages (from scikit-learn) (1.13.1)\n",
            "Requirement already satisfied: joblib>=1.2.0 in /usr/local/lib/python3.10/dist-packages (from scikit-learn) (1.4.2)\n",
            "Requirement already satisfied: threadpoolctl>=3.1.0 in /usr/local/lib/python3.10/dist-packages (from scikit-learn) (3.5.0)\n"
          ]
        }
      ],
      "source": [
        "!pip install -U scikit-learn"
      ]
    },
    {
      "cell_type": "markdown",
      "metadata": {
        "id": "Hnf6NhDZZiL-"
      },
      "source": [
        "Import the library needed"
      ]
    },
    {
      "cell_type": "code",
      "execution_count": null,
      "metadata": {
        "id": "8FgRcK87UmZX"
      },
      "outputs": [],
      "source": [
        "import pandas as pd\n",
        "import numpy as np\n",
        "from sklearn.preprocessing import MinMaxScaler\n",
        "import tensorflow as tf\n",
        "from tensorflow.keras.models import Sequential\n",
        "from tensorflow.keras.layers import LSTM, Dense, Attention, Add, Input, GlobalAveragePooling1D\n",
        "from tensorflow.keras.models import Model\n",
        "import matplotlib.pyplot as plt\n",
        "from tensorflow.keras.optimizers import Adam\n",
        "import seaborn as sns\n",
        "import joblib"
      ]
    },
    {
      "cell_type": "markdown",
      "source": [
        "Read all data"
      ],
      "metadata": {
        "id": "bNMHf_znZ9wN"
      }
    },
    {
      "cell_type": "code",
      "execution_count": null,
      "metadata": {
        "colab": {
          "base_uri": "https://localhost:8080/"
        },
        "id": "frXYKjaBZxKp",
        "outputId": "d36a60db-b17e-43ae-f99e-3fca8351755e"
      },
      "outputs": [
        {
          "output_type": "stream",
          "name": "stdout",
          "text": [
            "Dataset : \n",
            "               Tn    Tx  Tavg  RH_avg     RR   ss  ff_x  ddd_x  ff_avg ddd_car\n",
            "Tanggal                                                                      \n",
            "01-01-2019  24.3  32.7  28.2    76.0  118.0  5.4     4    320       2      N \n",
            "02-01-2019  25.0  32.2  28.1    76.0    4.0  9.9     5    300       3      W \n",
            "03-01-2019  25.4  32.5  29.2    77.0    0.0  9.4     6    270       3      W \n",
            "04-01-2019  27.0  32.4  28.8    77.0    4.3  8.8     6    270       1      C \n",
            "05-01-2019  25.8  31.6  27.8    87.0    0.0  1.8     6     50       3      NE\n",
            "Dataset : \n",
            "               Tn    Tx  Tavg  RH_avg     RR   ss  ff_x  ddd_x  ff_avg ddd_car\n",
            "Tanggal                                                                      \n",
            "27-12-2023  25.6  28.4  25.9    94.0    3.6  5.6     5     50       3      NE\n",
            "28-12-2023  23.4  29.8  26.6    93.0  137.1  2.8     6     70       2      NE\n",
            "29-12-2023  24.5  31.0  28.2    84.0   23.0  0.0     6     60       4      NE\n",
            "30-12-2023  25.5  31.5  28.3    86.0    3.1  2.4     7     40       3      NE\n",
            "31-12-2023  26.5  28.6  25.8    96.0    1.6  2.4     4    350       2      N \n",
            "\n",
            "\n",
            "Jumlah hari dalam dataset: 1826\n"
          ]
        }
      ],
      "source": [
        "# Membaca data keseluruhan\n",
        "\n",
        "#Skenario 1\n",
        "rainfall_data_url = \"https://raw.githubusercontent.com/arifian853/rainfall-predict-lstm-attention/master/dataset/filled/scenario3/final/final-data-2019-2023.csv\"\n",
        "\n",
        "# Skenario 2\n",
        "# rainfall_data_url = \"https://raw.githubusercontent.com/arifian853/rainfall-predict-lstm-attention/master/dataset/filled/scenario3/final/final-data-2014-2024.csv\"\n",
        "\n",
        "df = pd.read_csv(rainfall_data_url, parse_dates=['Tanggal'], index_col='Tanggal')\n",
        "\n",
        "print('Dataset : \\n', df.head())\n",
        "print('Dataset : \\n', df.tail())\n",
        "print('\\n')\n",
        "\n",
        "# Menghitung jumlah hari dalam dataset\n",
        "days_count = len(df.index)\n",
        "print(\"Jumlah hari dalam dataset:\", days_count)"
      ]
    },
    {
      "cell_type": "markdown",
      "metadata": {
        "id": "BkkiFPgebKVt"
      },
      "source": [
        "Correlation matrix"
      ]
    },
    {
      "cell_type": "code",
      "execution_count": null,
      "metadata": {
        "colab": {
          "base_uri": "https://localhost:8080/",
          "height": 504
        },
        "id": "wAs2ECoEbJ63",
        "outputId": "6fe1f629-40c2-4164-8c6a-68ae9fa404c7"
      },
      "outputs": [
        {
          "output_type": "stream",
          "name": "stdout",
          "text": [
            "\n",
            " Correlation Matrix \n",
            "\n"
          ]
        },
        {
          "output_type": "execute_result",
          "data": {
            "text/plain": [
              "<Axes: >"
            ]
          },
          "metadata": {},
          "execution_count": 15
        },
        {
          "output_type": "display_data",
          "data": {
            "text/plain": [
              "<Figure size 640x480 with 2 Axes>"
            ],
            "image/png": "[encoded data removed]"
          },
          "metadata": {}
        }
      ],
      "source": [
        "print(\"\\n Correlation Matrix \\n\")\n",
        "\n",
        "matrix = df.drop(columns=['ddd_car']).corr()\n",
        "# matrix = df.corr()\n",
        "# Plotting correlation matrix\n",
        "sns.heatmap(matrix, cmap=\"coolwarm\", annot=True)\n"
      ]
    },
    {
      "cell_type": "markdown",
      "metadata": {
        "id": "7Vqxba-j05Zt"
      },
      "source": [
        "Split data to train, test, and validate"
      ]
    },
    {
      "cell_type": "code",
      "execution_count": null,
      "metadata": {
        "colab": {
          "base_uri": "https://localhost:8080/"
        },
        "id": "aRGiJX6GZ4_m",
        "outputId": "7f10a4cf-dab3-4620-d5a3-b172e0caf031"
      },
      "outputs": [
        {
          "output_type": "stream",
          "name": "stdout",
          "text": [
            "Training set: 1155 records\n",
            "Validation set: 365 records\n",
            "Test set: 306 records\n"
          ]
        }
      ],
      "source": [
        "# Membagi data menjadi training, validation, dan testing sets\n",
        "\n",
        "# Scenario 1 - 70:15:15\n",
        "train = df['01-01-2019':'28-02-2022']\n",
        "validation = df['01-03-2022':'28-02-2023']\n",
        "test = df['01-03-2023':'31-12-2023']\n",
        "\n",
        "# Scenario 2 - 70:15:15\n",
        "# train = df['01/01/2014':'15/04/2021']\n",
        "# validation = df['16/04/2021':'06/11/2022']\n",
        "# test = df['07/11/2022':'31/05/2024']\n",
        "\n",
        "# Displaying the number of records in each set\n",
        "print(f'Training set: {train.shape[0]} records')\n",
        "print(f'Validation set: {validation.shape[0]} records')\n",
        "print(f'Test set: {test.shape[0]} records')\n",
        "\n",
        "# Selecting features and target\n",
        "features = ['Tavg', 'RH_avg', \"ss\", \"ff_avg\"] # Faktor yang mempengaruhi curah hujan (RR)\n",
        "X_train = train[features]\n",
        "y_train = train['RR']\n",
        "X_val = validation[features]\n",
        "y_val = validation['RR']\n",
        "X_test = test[features]\n",
        "y_test = test['RR']"
      ]
    },
    {
      "cell_type": "code",
      "execution_count": null,
      "metadata": {
        "colab": {
          "base_uri": "https://localhost:8080/"
        },
        "id": "kxXzhHW5Z_M2",
        "outputId": "fb72eab5-a842-4979-f0db-4e35c3606e94"
      },
      "outputs": [
        {
          "output_type": "execute_result",
          "data": {
            "text/plain": [
              "['scaler_y.pkl']"
            ]
          },
          "metadata": {},
          "execution_count": 17
        }
      ],
      "source": [
        "# Normalisasi data Fitur dan target\n",
        "scaler_X = MinMaxScaler()\n",
        "scaler_y = MinMaxScaler()\n",
        "\n",
        "# Reshape y_train, y_val, y_test to (n_samples, 1)\n",
        "y_train_reshaped = y_train.values.reshape(-1, 1)\n",
        "y_val_reshaped = y_val.values.reshape(-1, 1)\n",
        "y_test_reshaped = y_test.values.reshape(-1, 1)\n",
        "\n",
        "# Fit and transform on training set, transform on validation and test sets\n",
        "X_train_scaled = scaler_X.fit_transform(X_train)\n",
        "X_val_scaled = scaler_X.transform(X_val)\n",
        "X_test_scaled = scaler_X.transform(X_test)\n",
        "\n",
        "y_train_scaled = scaler_y.fit_transform(y_train_reshaped).flatten()\n",
        "y_val_scaled = scaler_y.transform(y_val_reshaped).flatten()\n",
        "y_test_scaled = scaler_y.transform(y_test_reshaped).flatten()\n",
        "\n",
        "# Fungsi untuk membentuk data menjadi sequence\n",
        "def create_sequences(X, y, time_steps=1):\n",
        "    Xs, ys = [], []\n",
        "    for i in range(len(X) - time_steps):\n",
        "        Xs.append(X[i:(i + time_steps)])\n",
        "        ys.append(y[i + time_steps])\n",
        "    return np.array(Xs), np.array(ys)\n",
        "\n",
        "time_steps = 10  # Misalnya, gunakan 10 hari sebelumnya untuk memprediksi hari berikutnya\n",
        "X_train_seq, y_train_seq = create_sequences(X_train_scaled, y_train_scaled, time_steps)\n",
        "X_val_seq, y_val_seq = create_sequences(X_val_scaled, y_val_scaled, time_steps)\n",
        "X_test_seq, y_test_seq = create_sequences(X_test_scaled, y_test_scaled, time_steps)\n",
        "\n",
        "# Save the scalers\n",
        "joblib.dump(scaler_X, 'scaler_X.pkl')\n",
        "joblib.dump(scaler_y, 'scaler_y.pkl')"
      ]
    },
    {
      "cell_type": "markdown",
      "metadata": {
        "id": "LIw4p9V5aEOQ"
      },
      "source": [
        "Data shape verification"
      ]
    },
    {
      "cell_type": "code",
      "execution_count": null,
      "metadata": {
        "colab": {
          "base_uri": "https://localhost:8080/"
        },
        "id": "0DDlDV3zaDwR",
        "outputId": "3f2864ea-e723-4151-a0a8-79166d114639"
      },
      "outputs": [
        {
          "output_type": "stream",
          "name": "stdout",
          "text": [
            "Shape of X_train_seq: (1145, 10, 4)\n",
            "Shape of y_train_seq: (1145,)\n",
            "Shape of X_val_seq: (355, 10, 4)\n",
            "Shape of y_val_seq: (355,)\n",
            "Shape of X_test_seq: (296, 10, 4)\n",
            "Shape of y_test_seq: (296,)\n"
          ]
        }
      ],
      "source": [
        "# Verifikasi bentuk data\n",
        "print(\"Shape of X_train_seq:\", X_train_seq.shape)\n",
        "print(\"Shape of y_train_seq:\", y_train_seq.shape)\n",
        "print(\"Shape of X_val_seq:\", X_val_seq.shape)\n",
        "print(\"Shape of y_val_seq:\", y_val_seq.shape)\n",
        "print(\"Shape of X_test_seq:\", X_test_seq.shape)\n",
        "print(\"Shape of y_test_seq:\", y_test_seq.shape)"
      ]
    },
    {
      "cell_type": "markdown",
      "metadata": {
        "id": "SqmD2uAfaKOz"
      },
      "source": [
        "### Regular LSTM model build and training"
      ]
    },
    {
      "cell_type": "code",
      "execution_count": null,
      "metadata": {
        "colab": {
          "base_uri": "https://localhost:8080/",
          "height": 1000
        },
        "id": "jLcO-wfXaPPU",
        "outputId": "c9d06df1-0f00-4d14-e1b3-3e00e32d6270"
      },
      "outputs": [
        {
          "output_type": "stream",
          "name": "stderr",
          "text": [
            "/usr/local/lib/python3.10/dist-packages/keras/src/layers/rnn/rnn.py:204: UserWarning: Do not pass an `input_shape`/`input_dim` argument to a layer. When using Sequential models, prefer using an `Input(shape)` object as the first layer in the model instead.\n",
            "  super().__init__(**kwargs)\n"
          ]
        },
        {
          "output_type": "display_data",
          "data": {
            "text/plain": [
              "\u001b[1mModel: \"sequential_1\"\u001b[0m\n"
            ],
            "text/html": [
              "<pre style=\"white-space:pre;overflow-x:auto;line-height:normal;font-family:Menlo,'DejaVu Sans Mono',consolas,'Courier New',monospace\"><span style=\"font-weight: bold\">Model: \"sequential_1\"</span>\n",
              "</pre>\n"
            ]
          },
          "metadata": {}
        },
        {
          "output_type": "display_data",
          "data": {
            "text/plain": [
              "┏━━━━━━━━━━━━━━━━━━━━━━━━━━━━━━━━━━━━━━┳━━━━━━━━━━━━━━━━━━━━━━━━━━━━━┳━━━━━━━━━━━━━━━━━┓\n",
              "┃\u001b[1m \u001b[0m\u001b[1mLayer (type)                        \u001b[0m\u001b[1m \u001b[0m┃\u001b[1m \u001b[0m\u001b[1mOutput Shape               \u001b[0m\u001b[1m \u001b[0m┃\u001b[1m \u001b[0m\u001b[1m        Param #\u001b[0m\u001b[1m \u001b[0m┃\n",
              "┡━━━━━━━━━━━━━━━━━━━━━━━━━━━━━━━━━━━━━━╇━━━━━━━━━━━━━━━━━━━━━━━━━━━━━╇━━━━━━━━━━━━━━━━━┩\n",
              "│ lstm_6 (\u001b[38;5;33mLSTM\u001b[0m)                        │ (\u001b[38;5;45mNone\u001b[0m, \u001b[38;5;34m10\u001b[0m, \u001b[38;5;34m32\u001b[0m)              │           \u001b[38;5;34m4,736\u001b[0m │\n",
              "├──────────────────────────────────────┼─────────────────────────────┼─────────────────┤\n",
              "│ lstm_7 (\u001b[38;5;33mLSTM\u001b[0m)                        │ (\u001b[38;5;45mNone\u001b[0m, \u001b[38;5;34m10\u001b[0m, \u001b[38;5;34m32\u001b[0m)              │           \u001b[38;5;34m8,320\u001b[0m │\n",
              "├──────────────────────────────────────┼─────────────────────────────┼─────────────────┤\n",
              "│ lstm_8 (\u001b[38;5;33mLSTM\u001b[0m)                        │ (\u001b[38;5;45mNone\u001b[0m, \u001b[38;5;34m32\u001b[0m)                  │           \u001b[38;5;34m8,320\u001b[0m │\n",
              "├──────────────────────────────────────┼─────────────────────────────┼─────────────────┤\n",
              "│ dense_2 (\u001b[38;5;33mDense\u001b[0m)                      │ (\u001b[38;5;45mNone\u001b[0m, \u001b[38;5;34m1\u001b[0m)                   │              \u001b[38;5;34m33\u001b[0m │\n",
              "└──────────────────────────────────────┴─────────────────────────────┴─────────────────┘\n"
            ],
            "text/html": [
              "<pre style=\"white-space:pre;overflow-x:auto;line-height:normal;font-family:Menlo,'DejaVu Sans Mono',consolas,'Courier New',monospace\">┏━━━━━━━━━━━━━━━━━━━━━━━━━━━━━━━━━━━━━━┳━━━━━━━━━━━━━━━━━━━━━━━━━━━━━┳━━━━━━━━━━━━━━━━━┓\n",
              "┃<span style=\"font-weight: bold\"> Layer (type)                         </span>┃<span style=\"font-weight: bold\"> Output Shape                </span>┃<span style=\"font-weight: bold\">         Param # </span>┃\n",
              "┡━━━━━━━━━━━━━━━━━━━━━━━━━━━━━━━━━━━━━━╇━━━━━━━━━━━━━━━━━━━━━━━━━━━━━╇━━━━━━━━━━━━━━━━━┩\n",
              "│ lstm_6 (<span style=\"color: #0087ff; text-decoration-color: #0087ff\">LSTM</span>)                        │ (<span style=\"color: #00d7ff; text-decoration-color: #00d7ff\">None</span>, <span style=\"color: #00af00; text-decoration-color: #00af00\">10</span>, <span style=\"color: #00af00; text-decoration-color: #00af00\">32</span>)              │           <span style=\"color: #00af00; text-decoration-color: #00af00\">4,736</span> │\n",
              "├──────────────────────────────────────┼─────────────────────────────┼─────────────────┤\n",
              "│ lstm_7 (<span style=\"color: #0087ff; text-decoration-color: #0087ff\">LSTM</span>)                        │ (<span style=\"color: #00d7ff; text-decoration-color: #00d7ff\">None</span>, <span style=\"color: #00af00; text-decoration-color: #00af00\">10</span>, <span style=\"color: #00af00; text-decoration-color: #00af00\">32</span>)              │           <span style=\"color: #00af00; text-decoration-color: #00af00\">8,320</span> │\n",
              "├──────────────────────────────────────┼─────────────────────────────┼─────────────────┤\n",
              "│ lstm_8 (<span style=\"color: #0087ff; text-decoration-color: #0087ff\">LSTM</span>)                        │ (<span style=\"color: #00d7ff; text-decoration-color: #00d7ff\">None</span>, <span style=\"color: #00af00; text-decoration-color: #00af00\">32</span>)                  │           <span style=\"color: #00af00; text-decoration-color: #00af00\">8,320</span> │\n",
              "├──────────────────────────────────────┼─────────────────────────────┼─────────────────┤\n",
              "│ dense_2 (<span style=\"color: #0087ff; text-decoration-color: #0087ff\">Dense</span>)                      │ (<span style=\"color: #00d7ff; text-decoration-color: #00d7ff\">None</span>, <span style=\"color: #00af00; text-decoration-color: #00af00\">1</span>)                   │              <span style=\"color: #00af00; text-decoration-color: #00af00\">33</span> │\n",
              "└──────────────────────────────────────┴─────────────────────────────┴─────────────────┘\n",
              "</pre>\n"
            ]
          },
          "metadata": {}
        },
        {
          "output_type": "display_data",
          "data": {
            "text/plain": [
              "\u001b[1m Total params: \u001b[0m\u001b[38;5;34m21,409\u001b[0m (83.63 KB)\n"
            ],
            "text/html": [
              "<pre style=\"white-space:pre;overflow-x:auto;line-height:normal;font-family:Menlo,'DejaVu Sans Mono',consolas,'Courier New',monospace\"><span style=\"font-weight: bold\"> Total params: </span><span style=\"color: #00af00; text-decoration-color: #00af00\">21,409</span> (83.63 KB)\n",
              "</pre>\n"
            ]
          },
          "metadata": {}
        },
        {
          "output_type": "display_data",
          "data": {
            "text/plain": [
              "\u001b[1m Trainable params: \u001b[0m\u001b[38;5;34m21,409\u001b[0m (83.63 KB)\n"
            ],
            "text/html": [
              "<pre style=\"white-space:pre;overflow-x:auto;line-height:normal;font-family:Menlo,'DejaVu Sans Mono',consolas,'Courier New',monospace\"><span style=\"font-weight: bold\"> Trainable params: </span><span style=\"color: #00af00; text-decoration-color: #00af00\">21,409</span> (83.63 KB)\n",
              "</pre>\n"
            ]
          },
          "metadata": {}
        },
        {
          "output_type": "display_data",
          "data": {
            "text/plain": [
              "\u001b[1m Non-trainable params: \u001b[0m\u001b[38;5;34m0\u001b[0m (0.00 B)\n"
            ],
            "text/html": [
              "<pre style=\"white-space:pre;overflow-x:auto;line-height:normal;font-family:Menlo,'DejaVu Sans Mono',consolas,'Courier New',monospace\"><span style=\"font-weight: bold\"> Non-trainable params: </span><span style=\"color: #00af00; text-decoration-color: #00af00\">0</span> (0.00 B)\n",
              "</pre>\n"
            ]
          },
          "metadata": {}
        },
        {
          "output_type": "stream",
          "name": "stdout",
          "text": [
            "Epoch 1/100\n",
            "144/144 - 3s - 23ms/step - loss: 0.0075 - val_loss: 0.0071\n",
            "Epoch 2/100\n",
            "144/144 - 1s - 6ms/step - loss: 0.0074 - val_loss: 0.0070\n",
            "Epoch 3/100\n",
            "144/144 - 1s - 6ms/step - loss: 0.0073 - val_loss: 0.0072\n",
            "Epoch 4/100\n",
            "144/144 - 1s - 6ms/step - loss: 0.0073 - val_loss: 0.0070\n",
            "Epoch 5/100\n",
            "144/144 - 1s - 6ms/step - loss: 0.0073 - val_loss: 0.0070\n",
            "Epoch 6/100\n",
            "144/144 - 2s - 12ms/step - loss: 0.0073 - val_loss: 0.0070\n",
            "Epoch 7/100\n",
            "144/144 - 1s - 10ms/step - loss: 0.0073 - val_loss: 0.0070\n",
            "Epoch 8/100\n",
            "144/144 - 2s - 14ms/step - loss: 0.0073 - val_loss: 0.0071\n",
            "Epoch 9/100\n",
            "144/144 - 1s - 9ms/step - loss: 0.0073 - val_loss: 0.0070\n",
            "Epoch 10/100\n",
            "144/144 - 1s - 9ms/step - loss: 0.0073 - val_loss: 0.0071\n",
            "Epoch 11/100\n",
            "144/144 - 1s - 9ms/step - loss: 0.0073 - val_loss: 0.0070\n",
            "Epoch 12/100\n",
            "144/144 - 1s - 6ms/step - loss: 0.0072 - val_loss: 0.0069\n",
            "Epoch 13/100\n",
            "144/144 - 1s - 6ms/step - loss: 0.0072 - val_loss: 0.0069\n",
            "Epoch 14/100\n",
            "144/144 - 1s - 9ms/step - loss: 0.0072 - val_loss: 0.0071\n",
            "Epoch 15/100\n",
            "144/144 - 1s - 6ms/step - loss: 0.0073 - val_loss: 0.0070\n",
            "Epoch 16/100\n",
            "144/144 - 2s - 12ms/step - loss: 0.0072 - val_loss: 0.0069\n",
            "Epoch 17/100\n",
            "144/144 - 1s - 10ms/step - loss: 0.0072 - val_loss: 0.0070\n",
            "Epoch 18/100\n",
            "144/144 - 2s - 14ms/step - loss: 0.0072 - val_loss: 0.0069\n",
            "Epoch 19/100\n",
            "144/144 - 1s - 6ms/step - loss: 0.0072 - val_loss: 0.0069\n",
            "Epoch 20/100\n",
            "144/144 - 1s - 9ms/step - loss: 0.0072 - val_loss: 0.0069\n",
            "Epoch 21/100\n",
            "144/144 - 1s - 6ms/step - loss: 0.0072 - val_loss: 0.0069\n",
            "Epoch 22/100\n",
            "144/144 - 1s - 9ms/step - loss: 0.0072 - val_loss: 0.0069\n",
            "Epoch 23/100\n",
            "144/144 - 1s - 6ms/step - loss: 0.0072 - val_loss: 0.0069\n",
            "Epoch 24/100\n",
            "144/144 - 1s - 9ms/step - loss: 0.0072 - val_loss: 0.0069\n",
            "Epoch 25/100\n",
            "144/144 - 1s - 6ms/step - loss: 0.0072 - val_loss: 0.0070\n",
            "Epoch 26/100\n",
            "144/144 - 1s - 8ms/step - loss: 0.0072 - val_loss: 0.0069\n",
            "Epoch 27/100\n",
            "144/144 - 1s - 10ms/step - loss: 0.0072 - val_loss: 0.0069\n",
            "Epoch 28/100\n",
            "144/144 - 1s - 8ms/step - loss: 0.0071 - val_loss: 0.0069\n",
            "Epoch 29/100\n",
            "144/144 - 1s - 7ms/step - loss: 0.0071 - val_loss: 0.0068\n",
            "Epoch 30/100\n",
            "144/144 - 1s - 9ms/step - loss: 0.0072 - val_loss: 0.0069\n",
            "Epoch 31/100\n",
            "144/144 - 1s - 9ms/step - loss: 0.0071 - val_loss: 0.0068\n",
            "Epoch 32/100\n",
            "144/144 - 1s - 6ms/step - loss: 0.0071 - val_loss: 0.0068\n",
            "Epoch 33/100\n",
            "144/144 - 1s - 9ms/step - loss: 0.0071 - val_loss: 0.0068\n",
            "Epoch 34/100\n",
            "144/144 - 1s - 9ms/step - loss: 0.0071 - val_loss: 0.0069\n",
            "Epoch 35/100\n",
            "144/144 - 1s - 6ms/step - loss: 0.0071 - val_loss: 0.0068\n",
            "Epoch 36/100\n",
            "144/144 - 1s - 6ms/step - loss: 0.0071 - val_loss: 0.0068\n",
            "Epoch 37/100\n",
            "144/144 - 1s - 10ms/step - loss: 0.0071 - val_loss: 0.0068\n",
            "Epoch 38/100\n",
            "144/144 - 2s - 12ms/step - loss: 0.0071 - val_loss: 0.0069\n",
            "Epoch 39/100\n",
            "144/144 - 2s - 13ms/step - loss: 0.0071 - val_loss: 0.0068\n",
            "Epoch 40/100\n",
            "144/144 - 1s - 9ms/step - loss: 0.0070 - val_loss: 0.0068\n",
            "Epoch 41/100\n",
            "144/144 - 1s - 9ms/step - loss: 0.0070 - val_loss: 0.0067\n",
            "Epoch 42/100\n",
            "144/144 - 1s - 6ms/step - loss: 0.0070 - val_loss: 0.0067\n",
            "Epoch 43/100\n",
            "144/144 - 1s - 9ms/step - loss: 0.0070 - val_loss: 0.0067\n",
            "Epoch 44/100\n",
            "144/144 - 1s - 6ms/step - loss: 0.0070 - val_loss: 0.0067\n",
            "Epoch 45/100\n",
            "144/144 - 1s - 9ms/step - loss: 0.0071 - val_loss: 0.0067\n",
            "Epoch 46/100\n",
            "144/144 - 1s - 9ms/step - loss: 0.0070 - val_loss: 0.0068\n",
            "Epoch 47/100\n",
            "144/144 - 2s - 13ms/step - loss: 0.0070 - val_loss: 0.0067\n",
            "Epoch 48/100\n",
            "144/144 - 2s - 13ms/step - loss: 0.0070 - val_loss: 0.0070\n",
            "Epoch 49/100\n",
            "144/144 - 1s - 6ms/step - loss: 0.0070 - val_loss: 0.0067\n",
            "Epoch 50/100\n",
            "144/144 - 1s - 6ms/step - loss: 0.0070 - val_loss: 0.0067\n",
            "Epoch 51/100\n",
            "144/144 - 1s - 6ms/step - loss: 0.0069 - val_loss: 0.0066\n",
            "Epoch 52/100\n",
            "144/144 - 1s - 9ms/step - loss: 0.0069 - val_loss: 0.0066\n",
            "Epoch 53/100\n",
            "144/144 - 1s - 9ms/step - loss: 0.0069 - val_loss: 0.0066\n",
            "Epoch 54/100\n",
            "144/144 - 1s - 6ms/step - loss: 0.0069 - val_loss: 0.0066\n",
            "Epoch 55/100\n",
            "144/144 - 1s - 9ms/step - loss: 0.0069 - val_loss: 0.0065\n",
            "Epoch 56/100\n",
            "144/144 - 1s - 6ms/step - loss: 0.0068 - val_loss: 0.0066\n",
            "Epoch 57/100\n",
            "144/144 - 2s - 12ms/step - loss: 0.0068 - val_loss: 0.0066\n",
            "Epoch 58/100\n",
            "144/144 - 1s - 9ms/step - loss: 0.0068 - val_loss: 0.0065\n",
            "Epoch 59/100\n",
            "144/144 - 2s - 15ms/step - loss: 0.0068 - val_loss: 0.0065\n",
            "Epoch 60/100\n",
            "144/144 - 1s - 6ms/step - loss: 0.0068 - val_loss: 0.0065\n",
            "Epoch 61/100\n",
            "144/144 - 1s - 6ms/step - loss: 0.0067 - val_loss: 0.0064\n",
            "Epoch 62/100\n",
            "144/144 - 1s - 9ms/step - loss: 0.0067 - val_loss: 0.0064\n",
            "Epoch 63/100\n",
            "144/144 - 1s - 9ms/step - loss: 0.0067 - val_loss: 0.0063\n",
            "Epoch 64/100\n",
            "144/144 - 1s - 6ms/step - loss: 0.0066 - val_loss: 0.0064\n",
            "Epoch 65/100\n",
            "144/144 - 1s - 9ms/step - loss: 0.0066 - val_loss: 0.0064\n",
            "Epoch 66/100\n",
            "144/144 - 1s - 7ms/step - loss: 0.0066 - val_loss: 0.0064\n",
            "Epoch 67/100\n",
            "144/144 - 2s - 12ms/step - loss: 0.0067 - val_loss: 0.0063\n",
            "Epoch 68/100\n",
            "144/144 - 1s - 9ms/step - loss: 0.0065 - val_loss: 0.0062\n",
            "Epoch 69/100\n",
            "144/144 - 1s - 6ms/step - loss: 0.0065 - val_loss: 0.0061\n",
            "Epoch 70/100\n",
            "144/144 - 1s - 6ms/step - loss: 0.0065 - val_loss: 0.0061\n",
            "Epoch 71/100\n",
            "144/144 - 1s - 6ms/step - loss: 0.0064 - val_loss: 0.0064\n",
            "Epoch 72/100\n",
            "144/144 - 1s - 6ms/step - loss: 0.0064 - val_loss: 0.0061\n",
            "Epoch 73/100\n",
            "144/144 - 1s - 9ms/step - loss: 0.0064 - val_loss: 0.0061\n",
            "Epoch 74/100\n",
            "144/144 - 1s - 6ms/step - loss: 0.0064 - val_loss: 0.0063\n",
            "Epoch 75/100\n",
            "144/144 - 1s - 6ms/step - loss: 0.0065 - val_loss: 0.0063\n",
            "Epoch 76/100\n",
            "144/144 - 1s - 9ms/step - loss: 0.0067 - val_loss: 0.0063\n",
            "Epoch 77/100\n",
            "144/144 - 1s - 6ms/step - loss: 0.0064 - val_loss: 0.0060\n",
            "Epoch 78/100\n",
            "144/144 - 1s - 6ms/step - loss: 0.0063 - val_loss: 0.0062\n",
            "Epoch 79/100\n",
            "144/144 - 2s - 12ms/step - loss: 0.0063 - val_loss: 0.0063\n",
            "Epoch 80/100\n",
            "144/144 - 2s - 11ms/step - loss: 0.0062 - val_loss: 0.0060\n",
            "Epoch 81/100\n",
            "144/144 - 1s - 6ms/step - loss: 0.0063 - val_loss: 0.0061\n",
            "Epoch 82/100\n",
            "144/144 - 1s - 8ms/step - loss: 0.0062 - val_loss: 0.0060\n",
            "Epoch 83/100\n",
            "144/144 - 1s - 9ms/step - loss: 0.0063 - val_loss: 0.0059\n",
            "Epoch 84/100\n",
            "144/144 - 1s - 9ms/step - loss: 0.0062 - val_loss: 0.0071\n",
            "Epoch 85/100\n",
            "144/144 - 1s - 6ms/step - loss: 0.0062 - val_loss: 0.0060\n",
            "Epoch 86/100\n",
            "144/144 - 1s - 9ms/step - loss: 0.0063 - val_loss: 0.0064\n",
            "Epoch 87/100\n",
            "144/144 - 1s - 7ms/step - loss: 0.0063 - val_loss: 0.0060\n",
            "Epoch 88/100\n",
            "144/144 - 1s - 7ms/step - loss: 0.0062 - val_loss: 0.0059\n",
            "Epoch 89/100\n",
            "144/144 - 1s - 7ms/step - loss: 0.0062 - val_loss: 0.0059\n",
            "Epoch 90/100\n",
            "144/144 - 2s - 12ms/step - loss: 0.0062 - val_loss: 0.0061\n",
            "Epoch 91/100\n",
            "144/144 - 1s - 10ms/step - loss: 0.0062 - val_loss: 0.0061\n",
            "Epoch 92/100\n",
            "144/144 - 2s - 15ms/step - loss: 0.0062 - val_loss: 0.0063\n",
            "Epoch 93/100\n",
            "144/144 - 1s - 6ms/step - loss: 0.0062 - val_loss: 0.0059\n",
            "Epoch 94/100\n",
            "144/144 - 1s - 6ms/step - loss: 0.0062 - val_loss: 0.0060\n",
            "Epoch 95/100\n",
            "144/144 - 1s - 6ms/step - loss: 0.0062 - val_loss: 0.0059\n",
            "Epoch 96/100\n",
            "144/144 - 1s - 9ms/step - loss: 0.0062 - val_loss: 0.0060\n",
            "Epoch 97/100\n",
            "144/144 - 1s - 6ms/step - loss: 0.0062 - val_loss: 0.0059\n",
            "Epoch 98/100\n",
            "144/144 - 1s - 7ms/step - loss: 0.0062 - val_loss: 0.0059\n",
            "Epoch 99/100\n",
            "144/144 - 1s - 8ms/step - loss: 0.0062 - val_loss: 0.0059\n",
            "Epoch 100/100\n",
            "144/144 - 2s - 11ms/step - loss: 0.0062 - val_loss: 0.0060\n",
            "\u001b[1m10/10\u001b[0m \u001b[32m━━━━━━━━━━━━━━━━━━━━\u001b[0m\u001b[37m\u001b[0m \u001b[1m1s\u001b[0m 42ms/step\n",
            " \n",
            " ===================================================== \n",
            "\n",
            "R-squared LSTM: [0.19271064]\n",
            "MSE LSTM: [0.00565529]\n",
            "MAE LSTM: [0.0485632]\n",
            "RMSE LSTM: [0.07520169]\n",
            " \n",
            " ===================================================== \n",
            "\n"
          ]
        }
      ],
      "source": [
        "# Membangun model LSTM biasa\n",
        "def build_lstm_model(input_shape, units=512, learning_rate=0.001):\n",
        "    model = Sequential()\n",
        "    model.add(LSTM(units, activation='tanh', input_shape=input_shape, return_sequences=True))\n",
        "    model.add(LSTM(units, activation='tanh', input_shape=input_shape, return_sequences=True))\n",
        "    model.add(LSTM(units, activation='tanh', input_shape=input_shape))\n",
        "    model.add(Dense(1))\n",
        "    optimizer = Adam(learning_rate=learning_rate)\n",
        "    model.compile(optimizer=optimizer, loss='mse')\n",
        "    return model\n",
        "\n",
        "# Membangun model LSTM\n",
        "input_shape = (time_steps, X_train_seq.shape[2])\n",
        "model_lstm = build_lstm_model(input_shape)\n",
        "\n",
        "# Displaying model summary\n",
        "model_lstm.summary()\n",
        "\n",
        "history_lstm = model_lstm.fit(X_train_seq, y_train_seq, epochs=50, batch_size=32, verbose=2, validation_data=(X_val_seq, y_val_seq))\n",
        "\n",
        "# Evaluasi model LSTM\n",
        "y_pred_lstm = model_lstm.predict(X_test_seq)\n",
        "\n",
        "def mean_squared_error(y_true, y_pred):\n",
        "    n = len(y_true)\n",
        "    mse = sum((y_true[i] - y_pred[i]) ** 2 for i in range(n)) / n\n",
        "    return mse\n",
        "\n",
        "def mean_absolute_error(y_true, y_pred):\n",
        "    n = len(y_true)\n",
        "    mae = sum(abs(y_true[i] - y_pred[i]) for i in range(n)) / n\n",
        "    return mae\n",
        "\n",
        "def root_mean_squared_error(y_true, y_pred):\n",
        "    mse = mean_squared_error(y_true, y_pred)\n",
        "    rmse = mse ** 0.5\n",
        "    return rmse\n",
        "\n",
        "def r2_score(y_true, y_pred):\n",
        "    mean_y_true = sum(y_true) / len(y_true)\n",
        "    ss_tot = sum((y - mean_y_true) ** 2 for y in y_true)\n",
        "    ss_res = sum((y_true[i] - y_pred[i]) ** 2 for i in range(len(y_true)))\n",
        "    r2 = 1 - (ss_res / ss_tot)\n",
        "    return r2\n",
        "\n",
        "mse_lstm = mean_squared_error(y_test_seq, y_pred_lstm)\n",
        "mae_lstm = mean_absolute_error(y_test_seq, y_pred_lstm)\n",
        "rmse_lstm = root_mean_squared_error(y_test_seq, y_pred_lstm)\n",
        "r2_lstm = r2_score(y_test_seq, y_pred_lstm)\n",
        "\n",
        "print(\" \\n ===================================================== \\n\")\n",
        "print(f'R-squared LSTM: {r2_lstm}')\n",
        "print(f'MSE LSTM: {mse_lstm}')\n",
        "print(f'MAE LSTM: {mae_lstm}')\n",
        "print(f'RMSE LSTM: {rmse_lstm}')\n",
        "print(\" \\n ===================================================== \\n\")\n"
      ]
    },
    {
      "cell_type": "markdown",
      "metadata": {
        "id": "7LDzWqnAUvBT"
      },
      "source": [
        "### LSTM Attention Mechanism model build and training"
      ]
    },
    {
      "cell_type": "code",
      "execution_count": null,
      "metadata": {
        "colab": {
          "base_uri": "https://localhost:8080/",
          "height": 1000
        },
        "id": "QGHrz8ryU0AC",
        "outputId": "e992b49f-e9c8-4b2d-f00a-94d5ac01697c"
      },
      "outputs": [
        {
          "output_type": "display_data",
          "data": {
            "text/plain": [
              "\u001b[1mModel: \"functional_9\"\u001b[0m\n"
            ],
            "text/html": [
              "<pre style=\"white-space:pre;overflow-x:auto;line-height:normal;font-family:Menlo,'DejaVu Sans Mono',consolas,'Courier New',monospace\"><span style=\"font-weight: bold\">Model: \"functional_9\"</span>\n",
              "</pre>\n"
            ]
          },
          "metadata": {}
        },
        {
          "output_type": "display_data",
          "data": {
            "text/plain": [
              "┏━━━━━━━━━━━━━━━━━━━━━━━━━━━┳━━━━━━━━━━━━━━━━━━━━━━━━┳━━━━━━━━━━━━━━━━┳━━━━━━━━━━━━━━━━━━━━━━━━┓\n",
              "┃\u001b[1m \u001b[0m\u001b[1mLayer (type)             \u001b[0m\u001b[1m \u001b[0m┃\u001b[1m \u001b[0m\u001b[1mOutput Shape          \u001b[0m\u001b[1m \u001b[0m┃\u001b[1m \u001b[0m\u001b[1m       Param #\u001b[0m\u001b[1m \u001b[0m┃\u001b[1m \u001b[0m\u001b[1mConnected to          \u001b[0m\u001b[1m \u001b[0m┃\n",
              "┡━━━━━━━━━━━━━━━━━━━━━━━━━━━╇━━━━━━━━━━━━━━━━━━━━━━━━╇━━━━━━━━━━━━━━━━╇━━━━━━━━━━━━━━━━━━━━━━━━┩\n",
              "│ input_layer_3             │ (\u001b[38;5;45mNone\u001b[0m, \u001b[38;5;34m10\u001b[0m, \u001b[38;5;34m4\u001b[0m)          │              \u001b[38;5;34m0\u001b[0m │ -                      │\n",
              "│ (\u001b[38;5;33mInputLayer\u001b[0m)              │                        │                │                        │\n",
              "├───────────────────────────┼────────────────────────┼────────────────┼────────────────────────┤\n",
              "│ lstm_9 (\u001b[38;5;33mLSTM\u001b[0m)             │ (\u001b[38;5;45mNone\u001b[0m, \u001b[38;5;34m10\u001b[0m, \u001b[38;5;34m32\u001b[0m)         │          \u001b[38;5;34m4,736\u001b[0m │ input_layer_3[\u001b[38;5;34m0\u001b[0m][\u001b[38;5;34m0\u001b[0m]    │\n",
              "├───────────────────────────┼────────────────────────┼────────────────┼────────────────────────┤\n",
              "│ lstm_10 (\u001b[38;5;33mLSTM\u001b[0m)            │ (\u001b[38;5;45mNone\u001b[0m, \u001b[38;5;34m10\u001b[0m, \u001b[38;5;34m32\u001b[0m)         │          \u001b[38;5;34m8,320\u001b[0m │ lstm_9[\u001b[38;5;34m0\u001b[0m][\u001b[38;5;34m0\u001b[0m]           │\n",
              "├───────────────────────────┼────────────────────────┼────────────────┼────────────────────────┤\n",
              "│ lstm_11 (\u001b[38;5;33mLSTM\u001b[0m)            │ (\u001b[38;5;45mNone\u001b[0m, \u001b[38;5;34m10\u001b[0m, \u001b[38;5;34m32\u001b[0m)         │          \u001b[38;5;34m8,320\u001b[0m │ lstm_10[\u001b[38;5;34m0\u001b[0m][\u001b[38;5;34m0\u001b[0m]          │\n",
              "├───────────────────────────┼────────────────────────┼────────────────┼────────────────────────┤\n",
              "│ attention_1 (\u001b[38;5;33mAttention\u001b[0m)   │ (\u001b[38;5;45mNone\u001b[0m, \u001b[38;5;34m10\u001b[0m, \u001b[38;5;34m32\u001b[0m)         │              \u001b[38;5;34m0\u001b[0m │ lstm_11[\u001b[38;5;34m0\u001b[0m][\u001b[38;5;34m0\u001b[0m],         │\n",
              "│                           │                        │                │ lstm_11[\u001b[38;5;34m0\u001b[0m][\u001b[38;5;34m0\u001b[0m]          │\n",
              "├───────────────────────────┼────────────────────────┼────────────────┼────────────────────────┤\n",
              "│ add_1 (\u001b[38;5;33mAdd\u001b[0m)               │ (\u001b[38;5;45mNone\u001b[0m, \u001b[38;5;34m10\u001b[0m, \u001b[38;5;34m32\u001b[0m)         │              \u001b[38;5;34m0\u001b[0m │ lstm_11[\u001b[38;5;34m0\u001b[0m][\u001b[38;5;34m0\u001b[0m],         │\n",
              "│                           │                        │                │ attention_1[\u001b[38;5;34m0\u001b[0m][\u001b[38;5;34m0\u001b[0m]      │\n",
              "├───────────────────────────┼────────────────────────┼────────────────┼────────────────────────┤\n",
              "│ global_average_pooling1d… │ (\u001b[38;5;45mNone\u001b[0m, \u001b[38;5;34m32\u001b[0m)             │              \u001b[38;5;34m0\u001b[0m │ add_1[\u001b[38;5;34m0\u001b[0m][\u001b[38;5;34m0\u001b[0m]            │\n",
              "│ (\u001b[38;5;33mGlobalAveragePooling1D\u001b[0m)  │                        │                │                        │\n",
              "├───────────────────────────┼────────────────────────┼────────────────┼────────────────────────┤\n",
              "│ dense_3 (\u001b[38;5;33mDense\u001b[0m)           │ (\u001b[38;5;45mNone\u001b[0m, \u001b[38;5;34m1\u001b[0m)              │             \u001b[38;5;34m33\u001b[0m │ global_average_poolin… │\n",
              "└───────────────────────────┴────────────────────────┴────────────────┴────────────────────────┘\n"
            ],
            "text/html": [
              "<pre style=\"white-space:pre;overflow-x:auto;line-height:normal;font-family:Menlo,'DejaVu Sans Mono',consolas,'Courier New',monospace\">┏━━━━━━━━━━━━━━━━━━━━━━━━━━━┳━━━━━━━━━━━━━━━━━━━━━━━━┳━━━━━━━━━━━━━━━━┳━━━━━━━━━━━━━━━━━━━━━━━━┓\n",
              "┃<span style=\"font-weight: bold\"> Layer (type)              </span>┃<span style=\"font-weight: bold\"> Output Shape           </span>┃<span style=\"font-weight: bold\">        Param # </span>┃<span style=\"font-weight: bold\"> Connected to           </span>┃\n",
              "┡━━━━━━━━━━━━━━━━━━━━━━━━━━━╇━━━━━━━━━━━━━━━━━━━━━━━━╇━━━━━━━━━━━━━━━━╇━━━━━━━━━━━━━━━━━━━━━━━━┩\n",
              "│ input_layer_3             │ (<span style=\"color: #00d7ff; text-decoration-color: #00d7ff\">None</span>, <span style=\"color: #00af00; text-decoration-color: #00af00\">10</span>, <span style=\"color: #00af00; text-decoration-color: #00af00\">4</span>)          │              <span style=\"color: #00af00; text-decoration-color: #00af00\">0</span> │ -                      │\n",
              "│ (<span style=\"color: #0087ff; text-decoration-color: #0087ff\">InputLayer</span>)              │                        │                │                        │\n",
              "├───────────────────────────┼────────────────────────┼────────────────┼────────────────────────┤\n",
              "│ lstm_9 (<span style=\"color: #0087ff; text-decoration-color: #0087ff\">LSTM</span>)             │ (<span style=\"color: #00d7ff; text-decoration-color: #00d7ff\">None</span>, <span style=\"color: #00af00; text-decoration-color: #00af00\">10</span>, <span style=\"color: #00af00; text-decoration-color: #00af00\">32</span>)         │          <span style=\"color: #00af00; text-decoration-color: #00af00\">4,736</span> │ input_layer_3[<span style=\"color: #00af00; text-decoration-color: #00af00\">0</span>][<span style=\"color: #00af00; text-decoration-color: #00af00\">0</span>]    │\n",
              "├───────────────────────────┼────────────────────────┼────────────────┼────────────────────────┤\n",
              "│ lstm_10 (<span style=\"color: #0087ff; text-decoration-color: #0087ff\">LSTM</span>)            │ (<span style=\"color: #00d7ff; text-decoration-color: #00d7ff\">None</span>, <span style=\"color: #00af00; text-decoration-color: #00af00\">10</span>, <span style=\"color: #00af00; text-decoration-color: #00af00\">32</span>)         │          <span style=\"color: #00af00; text-decoration-color: #00af00\">8,320</span> │ lstm_9[<span style=\"color: #00af00; text-decoration-color: #00af00\">0</span>][<span style=\"color: #00af00; text-decoration-color: #00af00\">0</span>]           │\n",
              "├───────────────────────────┼────────────────────────┼────────────────┼────────────────────────┤\n",
              "│ lstm_11 (<span style=\"color: #0087ff; text-decoration-color: #0087ff\">LSTM</span>)            │ (<span style=\"color: #00d7ff; text-decoration-color: #00d7ff\">None</span>, <span style=\"color: #00af00; text-decoration-color: #00af00\">10</span>, <span style=\"color: #00af00; text-decoration-color: #00af00\">32</span>)         │          <span style=\"color: #00af00; text-decoration-color: #00af00\">8,320</span> │ lstm_10[<span style=\"color: #00af00; text-decoration-color: #00af00\">0</span>][<span style=\"color: #00af00; text-decoration-color: #00af00\">0</span>]          │\n",
              "├───────────────────────────┼────────────────────────┼────────────────┼────────────────────────┤\n",
              "│ attention_1 (<span style=\"color: #0087ff; text-decoration-color: #0087ff\">Attention</span>)   │ (<span style=\"color: #00d7ff; text-decoration-color: #00d7ff\">None</span>, <span style=\"color: #00af00; text-decoration-color: #00af00\">10</span>, <span style=\"color: #00af00; text-decoration-color: #00af00\">32</span>)         │              <span style=\"color: #00af00; text-decoration-color: #00af00\">0</span> │ lstm_11[<span style=\"color: #00af00; text-decoration-color: #00af00\">0</span>][<span style=\"color: #00af00; text-decoration-color: #00af00\">0</span>],         │\n",
              "│                           │                        │                │ lstm_11[<span style=\"color: #00af00; text-decoration-color: #00af00\">0</span>][<span style=\"color: #00af00; text-decoration-color: #00af00\">0</span>]          │\n",
              "├───────────────────────────┼────────────────────────┼────────────────┼────────────────────────┤\n",
              "│ add_1 (<span style=\"color: #0087ff; text-decoration-color: #0087ff\">Add</span>)               │ (<span style=\"color: #00d7ff; text-decoration-color: #00d7ff\">None</span>, <span style=\"color: #00af00; text-decoration-color: #00af00\">10</span>, <span style=\"color: #00af00; text-decoration-color: #00af00\">32</span>)         │              <span style=\"color: #00af00; text-decoration-color: #00af00\">0</span> │ lstm_11[<span style=\"color: #00af00; text-decoration-color: #00af00\">0</span>][<span style=\"color: #00af00; text-decoration-color: #00af00\">0</span>],         │\n",
              "│                           │                        │                │ attention_1[<span style=\"color: #00af00; text-decoration-color: #00af00\">0</span>][<span style=\"color: #00af00; text-decoration-color: #00af00\">0</span>]      │\n",
              "├───────────────────────────┼────────────────────────┼────────────────┼────────────────────────┤\n",
              "│ global_average_pooling1d… │ (<span style=\"color: #00d7ff; text-decoration-color: #00d7ff\">None</span>, <span style=\"color: #00af00; text-decoration-color: #00af00\">32</span>)             │              <span style=\"color: #00af00; text-decoration-color: #00af00\">0</span> │ add_1[<span style=\"color: #00af00; text-decoration-color: #00af00\">0</span>][<span style=\"color: #00af00; text-decoration-color: #00af00\">0</span>]            │\n",
              "│ (<span style=\"color: #0087ff; text-decoration-color: #0087ff\">GlobalAveragePooling1D</span>)  │                        │                │                        │\n",
              "├───────────────────────────┼────────────────────────┼────────────────┼────────────────────────┤\n",
              "│ dense_3 (<span style=\"color: #0087ff; text-decoration-color: #0087ff\">Dense</span>)           │ (<span style=\"color: #00d7ff; text-decoration-color: #00d7ff\">None</span>, <span style=\"color: #00af00; text-decoration-color: #00af00\">1</span>)              │             <span style=\"color: #00af00; text-decoration-color: #00af00\">33</span> │ global_average_poolin… │\n",
              "└───────────────────────────┴────────────────────────┴────────────────┴────────────────────────┘\n",
              "</pre>\n"
            ]
          },
          "metadata": {}
        },
        {
          "output_type": "display_data",
          "data": {
            "text/plain": [
              "\u001b[1m Total params: \u001b[0m\u001b[38;5;34m21,409\u001b[0m (83.63 KB)\n"
            ],
            "text/html": [
              "<pre style=\"white-space:pre;overflow-x:auto;line-height:normal;font-family:Menlo,'DejaVu Sans Mono',consolas,'Courier New',monospace\"><span style=\"font-weight: bold\"> Total params: </span><span style=\"color: #00af00; text-decoration-color: #00af00\">21,409</span> (83.63 KB)\n",
              "</pre>\n"
            ]
          },
          "metadata": {}
        },
        {
          "output_type": "display_data",
          "data": {
            "text/plain": [
              "\u001b[1m Trainable params: \u001b[0m\u001b[38;5;34m21,409\u001b[0m (83.63 KB)\n"
            ],
            "text/html": [
              "<pre style=\"white-space:pre;overflow-x:auto;line-height:normal;font-family:Menlo,'DejaVu Sans Mono',consolas,'Courier New',monospace\"><span style=\"font-weight: bold\"> Trainable params: </span><span style=\"color: #00af00; text-decoration-color: #00af00\">21,409</span> (83.63 KB)\n",
              "</pre>\n"
            ]
          },
          "metadata": {}
        },
        {
          "output_type": "display_data",
          "data": {
            "text/plain": [
              "\u001b[1m Non-trainable params: \u001b[0m\u001b[38;5;34m0\u001b[0m (0.00 B)\n"
            ],
            "text/html": [
              "<pre style=\"white-space:pre;overflow-x:auto;line-height:normal;font-family:Menlo,'DejaVu Sans Mono',consolas,'Courier New',monospace\"><span style=\"font-weight: bold\"> Non-trainable params: </span><span style=\"color: #00af00; text-decoration-color: #00af00\">0</span> (0.00 B)\n",
              "</pre>\n"
            ]
          },
          "metadata": {}
        },
        {
          "output_type": "stream",
          "name": "stdout",
          "text": [
            "Epoch 1/100\n",
            "144/144 - 3s - 24ms/step - loss: 0.0074 - val_loss: 0.0071\n",
            "Epoch 2/100\n",
            "144/144 - 1s - 7ms/step - loss: 0.0074 - val_loss: 0.0071\n",
            "Epoch 3/100\n",
            "144/144 - 1s - 7ms/step - loss: 0.0074 - val_loss: 0.0072\n",
            "Epoch 4/100\n",
            "144/144 - 1s - 7ms/step - loss: 0.0074 - val_loss: 0.0072\n",
            "Epoch 5/100\n",
            "144/144 - 1s - 9ms/step - loss: 0.0074 - val_loss: 0.0071\n",
            "Epoch 6/100\n",
            "144/144 - 1s - 8ms/step - loss: 0.0074 - val_loss: 0.0071\n",
            "Epoch 7/100\n",
            "144/144 - 2s - 11ms/step - loss: 0.0074 - val_loss: 0.0071\n",
            "Epoch 8/100\n",
            "144/144 - 1s - 10ms/step - loss: 0.0074 - val_loss: 0.0072\n",
            "Epoch 9/100\n",
            "144/144 - 1s - 7ms/step - loss: 0.0073 - val_loss: 0.0072\n",
            "Epoch 10/100\n",
            "144/144 - 1s - 7ms/step - loss: 0.0074 - val_loss: 0.0071\n",
            "Epoch 11/100\n",
            "144/144 - 1s - 7ms/step - loss: 0.0074 - val_loss: 0.0071\n",
            "Epoch 12/100\n",
            "144/144 - 1s - 9ms/step - loss: 0.0073 - val_loss: 0.0071\n",
            "Epoch 13/100\n",
            "144/144 - 1s - 7ms/step - loss: 0.0073 - val_loss: 0.0073\n",
            "Epoch 14/100\n",
            "144/144 - 1s - 9ms/step - loss: 0.0073 - val_loss: 0.0071\n",
            "Epoch 15/100\n",
            "144/144 - 1s - 7ms/step - loss: 0.0073 - val_loss: 0.0071\n",
            "Epoch 16/100\n",
            "144/144 - 1s - 7ms/step - loss: 0.0073 - val_loss: 0.0072\n",
            "Epoch 17/100\n",
            "144/144 - 1s - 7ms/step - loss: 0.0074 - val_loss: 0.0071\n",
            "Epoch 18/100\n",
            "144/144 - 1s - 10ms/step - loss: 0.0073 - val_loss: 0.0071\n",
            "Epoch 19/100\n",
            "144/144 - 2s - 14ms/step - loss: 0.0073 - val_loss: 0.0071\n",
            "Epoch 20/100\n",
            "144/144 - 1s - 9ms/step - loss: 0.0073 - val_loss: 0.0071\n",
            "Epoch 21/100\n",
            "144/144 - 1s - 9ms/step - loss: 0.0073 - val_loss: 0.0071\n",
            "Epoch 22/100\n",
            "144/144 - 1s - 7ms/step - loss: 0.0073 - val_loss: 0.0071\n",
            "Epoch 23/100\n",
            "144/144 - 1s - 7ms/step - loss: 0.0073 - val_loss: 0.0071\n",
            "Epoch 24/100\n",
            "144/144 - 1s - 9ms/step - loss: 0.0073 - val_loss: 0.0071\n",
            "Epoch 25/100\n",
            "144/144 - 1s - 7ms/step - loss: 0.0073 - val_loss: 0.0071\n",
            "Epoch 26/100\n",
            "144/144 - 1s - 9ms/step - loss: 0.0073 - val_loss: 0.0071\n",
            "Epoch 27/100\n",
            "144/144 - 1s - 10ms/step - loss: 0.0073 - val_loss: 0.0072\n",
            "Epoch 28/100\n",
            "144/144 - 1s - 10ms/step - loss: 0.0073 - val_loss: 0.0071\n",
            "Epoch 29/100\n",
            "144/144 - 1s - 9ms/step - loss: 0.0073 - val_loss: 0.0071\n",
            "Epoch 30/100\n",
            "144/144 - 1s - 7ms/step - loss: 0.0073 - val_loss: 0.0073\n",
            "Epoch 31/100\n",
            "144/144 - 1s - 8ms/step - loss: 0.0073 - val_loss: 0.0071\n",
            "Epoch 32/100\n",
            "144/144 - 1s - 9ms/step - loss: 0.0073 - val_loss: 0.0071\n",
            "Epoch 33/100\n",
            "144/144 - 1s - 9ms/step - loss: 0.0073 - val_loss: 0.0072\n",
            "Epoch 34/100\n",
            "144/144 - 1s - 9ms/step - loss: 0.0073 - val_loss: 0.0071\n",
            "Epoch 35/100\n",
            "144/144 - 1s - 9ms/step - loss: 0.0073 - val_loss: 0.0071\n",
            "Epoch 36/100\n",
            "144/144 - 1s - 7ms/step - loss: 0.0073 - val_loss: 0.0071\n",
            "Epoch 37/100\n",
            "144/144 - 1s - 9ms/step - loss: 0.0072 - val_loss: 0.0073\n",
            "Epoch 38/100\n",
            "144/144 - 2s - 12ms/step - loss: 0.0073 - val_loss: 0.0073\n",
            "Epoch 39/100\n",
            "144/144 - 1s - 9ms/step - loss: 0.0073 - val_loss: 0.0071\n",
            "Epoch 40/100\n",
            "144/144 - 2s - 15ms/step - loss: 0.0073 - val_loss: 0.0071\n",
            "Epoch 41/100\n",
            "144/144 - 1s - 7ms/step - loss: 0.0073 - val_loss: 0.0071\n",
            "Epoch 42/100\n",
            "144/144 - 1s - 9ms/step - loss: 0.0072 - val_loss: 0.0071\n",
            "Epoch 43/100\n",
            "144/144 - 1s - 9ms/step - loss: 0.0072 - val_loss: 0.0071\n",
            "Epoch 44/100\n",
            "144/144 - 1s - 9ms/step - loss: 0.0073 - val_loss: 0.0071\n",
            "Epoch 45/100\n",
            "144/144 - 1s - 9ms/step - loss: 0.0072 - val_loss: 0.0072\n",
            "Epoch 46/100\n",
            "144/144 - 1s - 7ms/step - loss: 0.0072 - val_loss: 0.0071\n",
            "Epoch 47/100\n",
            "144/144 - 2s - 11ms/step - loss: 0.0072 - val_loss: 0.0071\n",
            "Epoch 48/100\n",
            "144/144 - 2s - 15ms/step - loss: 0.0072 - val_loss: 0.0071\n",
            "Epoch 49/100\n",
            "144/144 - 1s - 9ms/step - loss: 0.0073 - val_loss: 0.0071\n",
            "Epoch 50/100\n",
            "144/144 - 1s - 7ms/step - loss: 0.0072 - val_loss: 0.0071\n",
            "Epoch 51/100\n",
            "144/144 - 1s - 7ms/step - loss: 0.0072 - val_loss: 0.0072\n",
            "Epoch 52/100\n",
            "144/144 - 1s - 7ms/step - loss: 0.0073 - val_loss: 0.0071\n",
            "Epoch 53/100\n",
            "144/144 - 1s - 9ms/step - loss: 0.0073 - val_loss: 0.0071\n",
            "Epoch 54/100\n",
            "144/144 - 1s - 9ms/step - loss: 0.0072 - val_loss: 0.0071\n",
            "Epoch 55/100\n",
            "144/144 - 1s - 6ms/step - loss: 0.0072 - val_loss: 0.0071\n",
            "Epoch 56/100\n",
            "144/144 - 1s - 7ms/step - loss: 0.0072 - val_loss: 0.0071\n",
            "Epoch 57/100\n",
            "144/144 - 2s - 11ms/step - loss: 0.0072 - val_loss: 0.0071\n",
            "Epoch 58/100\n",
            "144/144 - 2s - 14ms/step - loss: 0.0072 - val_loss: 0.0071\n",
            "Epoch 59/100\n",
            "144/144 - 1s - 7ms/step - loss: 0.0072 - val_loss: 0.0071\n",
            "Epoch 60/100\n",
            "144/144 - 1s - 9ms/step - loss: 0.0072 - val_loss: 0.0071\n",
            "Epoch 61/100\n",
            "144/144 - 1s - 7ms/step - loss: 0.0072 - val_loss: 0.0071\n",
            "Epoch 62/100\n",
            "144/144 - 1s - 9ms/step - loss: 0.0073 - val_loss: 0.0071\n",
            "Epoch 63/100\n",
            "144/144 - 1s - 7ms/step - loss: 0.0072 - val_loss: 0.0072\n",
            "Epoch 64/100\n",
            "144/144 - 1s - 6ms/step - loss: 0.0073 - val_loss: 0.0071\n",
            "Epoch 65/100\n",
            "144/144 - 1s - 7ms/step - loss: 0.0073 - val_loss: 0.0071\n",
            "Epoch 66/100\n",
            "144/144 - 1s - 9ms/step - loss: 0.0072 - val_loss: 0.0073\n",
            "Epoch 67/100\n",
            "144/144 - 2s - 12ms/step - loss: 0.0072 - val_loss: 0.0071\n",
            "Epoch 68/100\n",
            "144/144 - 1s - 9ms/step - loss: 0.0072 - val_loss: 0.0071\n",
            "Epoch 69/100\n",
            "144/144 - 2s - 15ms/step - loss: 0.0072 - val_loss: 0.0071\n",
            "Epoch 70/100\n",
            "144/144 - 1s - 7ms/step - loss: 0.0072 - val_loss: 0.0071\n",
            "Epoch 71/100\n",
            "144/144 - 1s - 7ms/step - loss: 0.0072 - val_loss: 0.0071\n",
            "Epoch 72/100\n",
            "144/144 - 1s - 9ms/step - loss: 0.0072 - val_loss: 0.0071\n",
            "Epoch 73/100\n",
            "144/144 - 1s - 9ms/step - loss: 0.0072 - val_loss: 0.0071\n",
            "Epoch 74/100\n",
            "144/144 - 1s - 7ms/step - loss: 0.0072 - val_loss: 0.0071\n",
            "Epoch 75/100\n",
            "144/144 - 1s - 7ms/step - loss: 0.0072 - val_loss: 0.0071\n",
            "Epoch 76/100\n",
            "144/144 - 1s - 7ms/step - loss: 0.0072 - val_loss: 0.0071\n",
            "Epoch 77/100\n",
            "144/144 - 1s - 10ms/step - loss: 0.0072 - val_loss: 0.0071\n",
            "Epoch 78/100\n",
            "144/144 - 2s - 14ms/step - loss: 0.0072 - val_loss: 0.0071\n",
            "Epoch 79/100\n",
            "144/144 - 1s - 7ms/step - loss: 0.0072 - val_loss: 0.0071\n",
            "Epoch 80/100\n",
            "144/144 - 1s - 7ms/step - loss: 0.0072 - val_loss: 0.0071\n",
            "Epoch 81/100\n",
            "144/144 - 1s - 7ms/step - loss: 0.0072 - val_loss: 0.0071\n",
            "Epoch 82/100\n",
            "144/144 - 1s - 9ms/step - loss: 0.0073 - val_loss: 0.0071\n",
            "Epoch 83/100\n",
            "144/144 - 1s - 9ms/step - loss: 0.0072 - val_loss: 0.0071\n",
            "Epoch 84/100\n",
            "144/144 - 1s - 8ms/step - loss: 0.0072 - val_loss: 0.0070\n",
            "Epoch 85/100\n",
            "144/144 - 1s - 7ms/step - loss: 0.0072 - val_loss: 0.0071\n",
            "Epoch 86/100\n",
            "144/144 - 1s - 7ms/step - loss: 0.0072 - val_loss: 0.0071\n",
            "Epoch 87/100\n",
            "144/144 - 2s - 12ms/step - loss: 0.0072 - val_loss: 0.0070\n",
            "Epoch 88/100\n",
            "144/144 - 1s - 10ms/step - loss: 0.0073 - val_loss: 0.0070\n",
            "Epoch 89/100\n",
            "144/144 - 1s - 7ms/step - loss: 0.0072 - val_loss: 0.0070\n",
            "Epoch 90/100\n",
            "144/144 - 1s - 7ms/step - loss: 0.0072 - val_loss: 0.0071\n",
            "Epoch 91/100\n",
            "144/144 - 1s - 9ms/step - loss: 0.0072 - val_loss: 0.0071\n",
            "Epoch 92/100\n",
            "144/144 - 1s - 7ms/step - loss: 0.0072 - val_loss: 0.0071\n",
            "Epoch 93/100\n"
          ]
        }
      ],
      "source": [
        "def build_lstm_attention_model(input_shape, lstm_units=32, learning_rate=0.0001):\n",
        "    inputs = Input(shape=input_shape)\n",
        "\n",
        "    # Adding multiple LSTM layers sequentially\n",
        "    lstm_out = LSTM(lstm_units, return_sequences=True)(inputs)\n",
        "    lstm_out = LSTM(lstm_units, return_sequences=True)(lstm_out)\n",
        "    lstm_out = LSTM(lstm_units, return_sequences=True)(lstm_out)\n",
        "\n",
        "    # Attention mechanism\n",
        "    attention = Attention()([lstm_out, lstm_out])\n",
        "    context_vector = Add()([lstm_out, attention])\n",
        "\n",
        "    # Global average pooling to reduce the dimensionality\n",
        "    context_vector = GlobalAveragePooling1D()(context_vector)\n",
        "\n",
        "    # Output Layer\n",
        "    outputs = Dense(1)(context_vector)\n",
        "\n",
        "    # Model compilation\n",
        "    model = Model(inputs, outputs)\n",
        "    optimizer = Adam(learning_rate=learning_rate)\n",
        "    model.compile(optimizer=optimizer, loss='mse')\n",
        "\n",
        "    return model\n",
        "\n",
        "# Membangun model LSTM dengan Attention Mechanism\n",
        "input_shape = (time_steps, X_train_seq.shape[2])\n",
        "model_lstm_attention = build_lstm_attention_model(input_shape)\n",
        "\n",
        "# Displaying model summary\n",
        "model_lstm_attention.summary()\n",
        "\n",
        "history_lstm_attention = model_lstm_attention.fit(X_train_seq, y_train_seq, epochs=100, batch_size=8 ,verbose=2, validation_data=(X_val_seq, y_val_seq))\n",
        "\n",
        "# Evaluasi model LSTM dengan Attention Mechanism\n",
        "y_pred_lstm_attention = model_lstm_attention.predict(X_test_seq)\n",
        "\n",
        "def mean_squared_error(y_true, y_pred):\n",
        "    n = len(y_true)\n",
        "    mse = sum((y_true[i] - y_pred[i]) ** 2 for i in range(n)) / n\n",
        "    return mse\n",
        "\n",
        "def mean_absolute_error(y_true, y_pred):\n",
        "    n = len(y_true)\n",
        "    mae = sum(abs(y_true[i] - y_pred[i]) for i in range(n)) / n\n",
        "    return mae\n",
        "\n",
        "def root_mean_squared_error(y_true, y_pred):\n",
        "    mse = mean_squared_error(y_true, y_pred)\n",
        "    rmse = mse ** 0.5\n",
        "    return rmse\n",
        "\n",
        "def r2_score(y_true, y_pred):\n",
        "    mean_y_true = sum(y_true) / len(y_true)\n",
        "    ss_tot = sum((y - mean_y_true) ** 2 for y in y_true)\n",
        "    ss_res = sum((y_true[i] - y_pred[i]) ** 2 for i in range(len(y_true)))\n",
        "    r2 = 1 - (ss_res / ss_tot)\n",
        "    return r2\n",
        "\n",
        "mse_lstm_attention = mean_squared_error(y_test_seq, y_pred_lstm_attention)\n",
        "mae_lstm_attention = mean_absolute_error(y_test_seq, y_pred_lstm_attention)\n",
        "rmse_lstm_attention = root_mean_squared_error(y_test_seq, y_pred_lstm_attention)\n",
        "r2_lstm_attention = r2_score(y_test_seq, y_pred_lstm_attention)\n",
        "\n",
        "print(\" \\n ===================================================== \\n\")\n",
        "print(f'R-squared LSTM with Attention: {r2_lstm_attention}')\n",
        "print(f'MSE LSTM with Attention: {mse_lstm_attention}')\n",
        "print(f'MAE LSTM with Attention: {mae_lstm_attention}')\n",
        "print(f'RMSE LSTM with Attention: {rmse_lstm_attention}')\n",
        "print(\" \\n ===================================================== \\n\")"
      ]
    },
    {
      "cell_type": "markdown",
      "metadata": {
        "id": "ngFbToBsU22g"
      },
      "source": [
        "Result and evaluation"
      ]
    },
    {
      "cell_type": "code",
      "execution_count": null,
      "metadata": {
        "id": "9hoEfOl6U4li"
      },
      "outputs": [],
      "source": [
        "# Plot hasil pelatihan\n",
        "plt.figure(figsize=(16, 6))\n",
        "plt.plot(history_lstm.history['loss'], label='Training Loss LSTM')\n",
        "plt.plot(history_lstm_attention.history['loss'], label='Training Loss LSTM with Attention')\n",
        "plt.plot(history_lstm.history['val_loss'], label='Validation Loss LSTM')\n",
        "plt.plot(history_lstm_attention.history['val_loss'], label='Validation Loss LSTM with Attention')\n",
        "plt.title('Model Loss')\n",
        "plt.xlabel('Epoch')\n",
        "plt.ylabel('Loss')\n",
        "plt.legend()\n",
        "plt.show()\n",
        "\n",
        "# Menampilkan hasil evaluasi\n",
        "print(f'R-squared LSTM: {r2_lstm}')\n",
        "print(f'MSE LSTM: {mse_lstm}')\n",
        "print(f'MAE LSTM: {mae_lstm}')\n",
        "print(f'RMSE LSTM : {rmse_lstm}')\n",
        "print(f'R-squared LSTM with Attention: {r2_lstm_attention}')\n",
        "print(f'MSE LSTM with Attention: {mse_lstm_attention}')\n",
        "print(f'MAE LSTM with Attention: {mae_lstm_attention}')\n",
        "print(f'RMSE LSTM with Attention: {rmse_lstm_attention}')\n"
      ]
    },
    {
      "cell_type": "markdown",
      "metadata": {
        "id": "ksXBmLqBFOl0"
      },
      "source": [
        "Nilai prediksi dan nilai asli LSTM Regular"
      ]
    },
    {
      "cell_type": "code",
      "execution_count": null,
      "metadata": {
        "id": "WfpHuI-kFQ8h"
      },
      "outputs": [],
      "source": [
        "# Plot prediksi vs nilai sebenarnya LSTM Reguler\n",
        "plt.figure(figsize=(18, 6))\n",
        "plt.plot(y_test_seq, label='Actual')\n",
        "plt.plot(y_pred_lstm, label='Predicted')\n",
        "plt.title('Actual with LSTM vs Predicted Values')\n",
        "plt.xlabel('Time Steps')\n",
        "plt.ylabel('RR (Curah Hujan)')\n",
        "plt.legend()\n",
        "plt.show()"
      ]
    },
    {
      "cell_type": "markdown",
      "metadata": {
        "id": "aQMdWzSgQaBR"
      },
      "source": [
        "Nilai prediksi dan nilai asli LSTM Attention"
      ]
    },
    {
      "cell_type": "code",
      "execution_count": null,
      "metadata": {
        "id": "jDarwwTIQdR8"
      },
      "outputs": [],
      "source": [
        "# Plot prediksi vs nilai sebenarnya LSTM Attention\n",
        "\n",
        "# Mengembalikan ke nilai asli\n",
        "plt.figure(figsize=(18, 6))\n",
        "plt.plot(y_test_seq, label='Actual')\n",
        "plt.plot(y_pred_lstm_attention, label='Predicted')\n",
        "plt.title('Actual with LSTM Attention vs Predicted Values')\n",
        "plt.xlabel('Time Steps')\n",
        "plt.ylabel('RR (Curah Hujan)')\n",
        "plt.legend()\n",
        "plt.show()"
      ]
    },
    {
      "cell_type": "markdown",
      "metadata": {
        "id": "js5RUrtujD5B"
      },
      "source": [
        "Save the model"
      ]
    },
    {
      "cell_type": "code",
      "execution_count": null,
      "metadata": {
        "id": "Kb7WCR4xFahX"
      },
      "outputs": [],
      "source": [
        "# Simpan model\n",
        "tf.saved_model.save(model_lstm, 'saved_model_lstm')\n",
        "tf.saved_model.save(model_lstm_attention, 'saved_model_lstm_attention')"
      ]
    },
    {
      "cell_type": "code",
      "execution_count": null,
      "metadata": {
        "colab": {
          "base_uri": "https://localhost:8080/"
        },
        "id": "4WhDpTbP9J9-",
        "outputId": "a31709e9-a64a-45dd-9bd3-798be09617d6"
      },
      "outputs": [
        {
          "output_type": "stream",
          "name": "stdout",
          "text": [
            "updating: content/saved_model_lstm/ (stored 0%)\n",
            "updating: content/saved_model_lstm/saved_model.pb (deflated 89%)\n",
            "updating: content/saved_model_lstm/assets/ (stored 0%)\n",
            "updating: content/saved_model_lstm/fingerprint.pb (stored 0%)\n",
            "updating: content/saved_model_lstm/variables/ (stored 0%)\n",
            "updating: content/saved_model_lstm/variables/variables.data-00000-of-00001 (deflated 6%)\n",
            "updating: content/saved_model_lstm/variables/variables.index (deflated 56%)\n",
            "updating: content/saved_model_lstm_attention/ (stored 0%)\n",
            "updating: content/saved_model_lstm_attention/saved_model.pb (deflated 89%)\n",
            "updating: content/saved_model_lstm_attention/assets/ (stored 0%)\n",
            "updating: content/saved_model_lstm_attention/fingerprint.pb (stored 0%)\n",
            "updating: content/saved_model_lstm_attention/variables/ (stored 0%)\n",
            "updating: content/saved_model_lstm_attention/variables/variables.data-00000-of-00001 (deflated 6%)\n",
            "updating: content/saved_model_lstm_attention/variables/variables.index (deflated 56%)\n"
          ]
        }
      ],
      "source": [
        "# Zip model agar mudah di download\n",
        "!zip -r /content/saved_model_lstm.zip /content/saved_model_lstm\n",
        "!zip -r /content/saved_model_lstm_attention.zip /content/saved_model_lstm_attention"
      ]
    }
  ],
  "metadata": {
    "colab": {
      "provenance": [],
      "gpuType": "T4",
      "include_colab_link": true
    },
    "kernelspec": {
      "display_name": "Python 3",
      "name": "python3"
    },
    "language_info": {
      "name": "python"
    },
    "accelerator": "GPU"
  },
  "nbformat": 4,
  "nbformat_minor": 0
}